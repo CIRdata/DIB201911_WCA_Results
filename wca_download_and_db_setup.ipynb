{
 "cells": [
  {
   "cell_type": "code",
   "execution_count": 1,
   "metadata": {},
   "outputs": [],
   "source": [
    "import pandas as pd\n",
    "import matplotlib.pyplot as plt\n",
    "import zipfile\n",
    "import os\n",
    "\n",
    "import wget"
   ]
  },
  {
   "cell_type": "code",
   "execution_count": 9,
   "metadata": {},
   "outputs": [],
   "source": [
    "%run helperfunctions.py\n",
    "\n",
    "db = db_name"
   ]
  },
  {
   "cell_type": "code",
   "execution_count": 2,
   "metadata": {},
   "outputs": [
    {
     "data": {
      "text/plain": [
       "'WCA_export.tsv.zip'"
      ]
     },
     "execution_count": 2,
     "metadata": {},
     "output_type": "execute_result"
    }
   ],
   "source": [
    "data_url = 'https://www.worldcubeassociation.org/results/misc/WCA_export.tsv.zip'\n",
    "zip_name = 'WCA_export.tsv.zip'\n",
    "wget.download(data_url,zip_name)"
   ]
  },
  {
   "cell_type": "code",
   "execution_count": 3,
   "metadata": {},
   "outputs": [],
   "source": [
    "zfile = zipfile.ZipFile(zip_name)\n",
    "zfile.extractall('data')"
   ]
  },
  {
   "cell_type": "code",
   "execution_count": 14,
   "metadata": {},
   "outputs": [],
   "source": [
    "recreatedb(db)"
   ]
  },
  {
   "cell_type": "code",
   "execution_count": 15,
   "metadata": {},
   "outputs": [],
   "source": [
    "file_path='./data/'\n",
    "file_prefix = 'WCA_export_'\n",
    "file_sufix = '.tsv'\n",
    "for file_name in os.listdir('./data/'):\n",
    "  if file_name not in ['metadata.json','README.md']:\n",
    "    df_name = file_name.replace('WCA_export_','').replace('.tsv','')\n",
    "    #locals()['df_'+df_name]=pd.read_csv(file_path+file_name,'\\t')\n",
    "    append_to_db(pd.read_csv(file_path+file_name,'\\t'),df_name.lower(),db)"
   ]
  },
  {
   "cell_type": "code",
   "execution_count": null,
   "metadata": {},
   "outputs": [],
   "source": [
    "sql = \"\"\"\n",
    "CREATE VIEW edges2018 AS\n",
    " WITH p AS (\n",
    "         SELECT DISTINCT p.uid,\n",
    "            r.competitionid\n",
    "           FROM persons p\n",
    "             JOIN results r ON r.personid = p.id\n",
    "             JOIN competitions comp ON comp.id = r.competitionid\n",
    "          WHERE comp.year = 2018\n",
    "        )\n",
    " SELECT a.uid AS source,\n",
    "    b.uid AS target,\n",
    "    count(*) AS weight\n",
    "   FROM p a\n",
    "     JOIN p b ON a.competitionid = b.competitionid AND a.uid < b.uid\n",
    "  GROUP BY a.uid, b.uid;\n",
    "\"\"\"\n",
    "\n",
    "execsql(sql,db)"
   ]
  },
  {
   "cell_type": "code",
   "execution_count": null,
   "metadata": {},
   "outputs": [],
   "source": [
    "sql = \"\"\"\n",
    "CREATE VIEW nodes2018 AS\n",
    " SELECT DISTINCT p.uid AS id,\n",
    "    c.continentid AS label\n",
    "   FROM persons p\n",
    "     JOIN countries c ON c.id = p.countryid\n",
    "     JOIN results r ON r.personid = p.id\n",
    "     JOIN competitions comp ON comp.id = r.competitionid\n",
    "  WHERE comp.year = 2018;\n",
    ";\"\"\"\n",
    "\n",
    "execsql(sql,db)"
   ]
  }
 ],
 "metadata": {
  "kernelspec": {
   "display_name": "Python 3",
   "language": "python",
   "name": "python3"
  },
  "language_info": {
   "codemirror_mode": {
    "name": "ipython",
    "version": 3
   },
   "file_extension": ".py",
   "mimetype": "text/x-python",
   "name": "python",
   "nbconvert_exporter": "python",
   "pygments_lexer": "ipython3",
   "version": "3.7.3"
  }
 },
 "nbformat": 4,
 "nbformat_minor": 2
}
